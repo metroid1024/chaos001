{
 "metadata": {
  "name": "",
  "signature": "sha256:4b23ab99440ff0397146a8ba70b7d9703fe17bf6f8876bd8906103bf9cc1852f"
 },
 "nbformat": 3,
 "nbformat_minor": 0,
 "worksheets": [
  {
   "cells": [
    {
     "cell_type": "code",
     "collapsed": false,
     "input": [
      "%pylab\n",
      "\n",
      "FigHigh=10\n",
      "FigWidth=FigHigh/1.6180\n",
      "\n",
      "pylab.rcParams['figure.figsize'] = (FigHigh,FigWidth)\n",
      "\n",
      "pylab.rcParams['legend.fontsize'] = 22\n",
      "pylab.rcParams['lines.linewidth'] = 2\n",
      "\n",
      "pylab.rcParams['mathtext.default'] = \"regular\"\n",
      "pylab.rcParams['text.usetex'] = False\n",
      "pylab.rcParams['font.style'] = \"normal\"\n",
      "pylab.rcParams['font.family'] = \"sans\"\n",
      "\n",
      "pylab.rcParams.update({'axes.labelsize': 18,'text.fontsize': 18,'xtick.labelsize': 18,'ytick.labelsize': 18})"
     ],
     "language": "python",
     "metadata": {},
     "outputs": [
      {
       "output_type": "stream",
       "stream": "stdout",
       "text": [
        "Using matplotlib backend: Qt4Agg\n",
        "Populating the interactive namespace from numpy and matplotlib\n"
       ]
      }
     ],
     "prompt_number": 9
    },
    {
     "cell_type": "code",
     "collapsed": false,
     "input": [
      "import numpy as np\n",
      "import matplotlib.pyplot as plt"
     ],
     "language": "python",
     "metadata": {},
     "outputs": [],
     "prompt_number": 10
    },
    {
     "cell_type": "code",
     "collapsed": false,
     "input": [
      "XStrtBack=0.05\n",
      "XStrt=XStrtBack\n",
      "\n",
      "#imStp=np.linspace(0,100,1000)\n",
      "SimLen=95\n",
      "Data=np.zeros((SimLen,2))\n",
      "\n",
      "### r_range=np.linspace(2.5,4,5000000) \n",
      "r_range=np.linspace(2.5,4,20000)\n",
      "PhDiag=np.zeros((len(r_range),2))"
     ],
     "language": "python",
     "metadata": {},
     "outputs": [],
     "prompt_number": 11
    },
    {
     "cell_type": "code",
     "collapsed": false,
     "input": [
      "def XNxt(r,x):\n",
      "    return r*x*(1-x)"
     ],
     "language": "python",
     "metadata": {},
     "outputs": [],
     "prompt_number": 12
    },
    {
     "cell_type": "code",
     "collapsed": false,
     "input": [
      "GrowRate=3\n",
      "x=linspace(0,1,500)\n",
      "y=XNxt(GrowRate,x)\n",
      "y2=1-x\n",
      "y3=GrowRate*x\n",
      "plt.plot(x,y,x,y2,x,y3);"
     ],
     "language": "python",
     "metadata": {},
     "outputs": [],
     "prompt_number": 16
    },
    {
     "cell_type": "code",
     "collapsed": false,
     "input": [
      "for i in range(len(r_range)):\n",
      "    r_act=r_range[i]\n",
      "    PhDiag[i,0]=r_act\n",
      "    \n",
      "    for j in range(SimLen):\n",
      "        XNew=XNxt(r_act,XStrt)\n",
      "        XStrt=XNew\n",
      "        PhDiag[i,1]=XNew"
     ],
     "language": "python",
     "metadata": {},
     "outputs": [],
     "prompt_number": 15
    },
    {
     "cell_type": "code",
     "collapsed": false,
     "input": [
      "\n",
      "plt.plot(PhDiag[:,0],PhDiag[:,1],linestyle=\"\",marker=\"o\",markersize=1)\n",
      "#xlim((2.5,4))\n",
      "plt.show()\n",
      "\n",
      "np.savetxt(\"rRange-2.5-4.5-Nstp-2e4_SimLen.170.txt\",PhDiag,fmt=\"%8.10e\")\n",
      "#np.savetxt(\"rRange.2.5.4.5e6_SimLen.85.txt\",PhDiag,fmt=\"%8.10e\")"
     ],
     "language": "python",
     "metadata": {},
     "outputs": [],
     "prompt_number": 17
    },
    {
     "cell_type": "code",
     "collapsed": false,
     "input": [
      "#################\n",
      "# Load the file #\n",
      "#################\n",
      "PhDiagDense=np.loadtxt(\"rRange.2.5.4.5e6_SimLen.85.txt\")"
     ],
     "language": "python",
     "metadata": {},
     "outputs": [],
     "prompt_number": 8
    },
    {
     "cell_type": "code",
     "collapsed": false,
     "input": [
      "plt.plot(PhDiagDense[:,0],PhDiagDense[:,1],linestyle=\"\",marker=\"o\",markersize=1)\n",
      "#xlim((2.5,4))\n",
      "plt.show()"
     ],
     "language": "python",
     "metadata": {},
     "outputs": [],
     "prompt_number": 5
    },
    {
     "cell_type": "code",
     "collapsed": false,
     "input": [
      "XStrt=XStrtBack\n",
      "for j in range(SimLen):\n",
      "    XNew=XNxt(2.6,XStrt)\n",
      "    XStrt=XNew\n",
      "    Data[j,0]=j\n",
      "    Data[j,1]=XNew"
     ],
     "language": "python",
     "metadata": {},
     "outputs": [],
     "prompt_number": 27
    },
    {
     "cell_type": "code",
     "collapsed": false,
     "input": [
      "plt.plot(Data[:,0],Data[:,1])\n",
      "#xlim((0,200))\n",
      "ylim((0,1))\n",
      "plt.show()"
     ],
     "language": "python",
     "metadata": {},
     "outputs": [],
     "prompt_number": 28
    },
    {
     "cell_type": "code",
     "collapsed": false,
     "input": [],
     "language": "python",
     "metadata": {},
     "outputs": []
    },
    {
     "cell_type": "code",
     "collapsed": false,
     "input": [],
     "language": "python",
     "metadata": {},
     "outputs": []
    },
    {
     "cell_type": "code",
     "collapsed": false,
     "input": [],
     "language": "python",
     "metadata": {},
     "outputs": []
    }
   ],
   "metadata": {}
  }
 ]
}