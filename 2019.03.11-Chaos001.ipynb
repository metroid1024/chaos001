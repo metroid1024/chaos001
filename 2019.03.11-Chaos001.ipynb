{
 "cells": [
  {
   "cell_type": "code",
   "execution_count": 1,
   "metadata": {},
   "outputs": [
    {
     "name": "stdout",
     "output_type": "stream",
     "text": [
      "Populating the interactive namespace from numpy and matplotlib\n"
     ]
    }
   ],
   "source": [
    "%pylab inline\n",
    "\n",
    "FigHigh=10\n",
    "FigWidth=FigHigh/1.6180\n",
    "\n",
    "#pylab.rcParams['figure.figsize'] = (FigHigh,FigWidth)\n",
    "\n",
    "pylab.rcParams['legend.fontsize'] = 22\n",
    "pylab.rcParams['lines.linewidth'] = 2\n",
    "\n",
    "pylab.rcParams['mathtext.default'] = \"regular\"\n",
    "pylab.rcParams['text.usetex'] = False\n",
    "pylab.rcParams['font.style'] = \"normal\"\n",
    "pylab.rcParams['font.family'] = \"sans\"\n",
    "\n",
    "pylab.rcParams['axes.labelsize'] = 18\n",
    "pylab.rcParams['xtick.labelsize'] = 18\n",
    "pylab.rcParams['ytick.labelsize'] = 18"
   ]
  },
  {
   "cell_type": "code",
   "execution_count": 2,
   "metadata": {},
   "outputs": [],
   "source": [
    "import numpy as np\n",
    "import matplotlib.pyplot as plt\n",
    "\n",
    "import ipywidgets as widgets\n",
    "from ipywidgets import interactive\n",
    "from ipywidgets import FloatSlider"
   ]
  },
  {
   "cell_type": "code",
   "execution_count": 3,
   "metadata": {},
   "outputs": [
    {
     "data": {
      "image/jpeg": "[encoded data removed]",
      "text/plain": [
       "<IPython.core.display.Image object>"
      ]
     },
     "execution_count": 3,
     "metadata": {
      "image/jpeg": {
       "height": 250,
       "width": 250
      }
     },
     "output_type": "execute_result"
    }
   ],
   "source": [
    "from IPython.display import Image\n",
    "from IPython.core.display import HTML \n",
    "\n",
    "Image(filename = \"./Rabbit.In.Love.jpg\", width=250, height=250)"
   ]
  },
  {
   "cell_type": "markdown",
   "metadata": {},
   "source": [
    "This is the true story of two rabbits. They are in love and they don't care about\n",
    "how much rabbit will populate their place after they made love.\n",
    "\n",
    "Human, however, kind of care so they build up a model to evaluate how much rabbit will\n",
    "be present after a few generation. What they found is astonishing !!!\n",
    "\n",
    "The final population take this simple, analytical form:\n",
    "\n",
    "$$ P_{Fin} = R \\cdot P_{Init} \\cdot (1-P_{Init}) $$\n",
    "\n",
    "The term $ R \\cdot P_{Init} $ define how much the population will grow. This is a line with a positive slop equal to R, the Reproduction Rate (RRate).\n",
    "\n",
    "The term $ 1-P_{Init} $ is responsible for the decrease of the final population. This line has a negative slop and represent the mortality rate."
   ]
  },
  {
   "cell_type": "code",
   "execution_count": 4,
   "metadata": {},
   "outputs": [],
   "source": [
    "# The above formula is implemented in the following function (CalcFinPop)\n",
    "# Provided an initial population InitPop and a reproduction rate RRate\n",
    "# This function calculate the population in the next generation ( one step ahead )\n",
    "\n",
    "def CalcFinPop(InitPop, RRate):\n",
    "    return RRate*InitPop*(1-InitPop)"
   ]
  },
  {
   "cell_type": "code",
   "execution_count": 5,
   "metadata": {},
   "outputs": [],
   "source": [
    "# In order to display a graph of FinPop VS InitPop,\n",
    "# Humans created an range of all possible Initial Population values (from 0 to 1)\n",
    "\n",
    "InitPopArray     = linspace(0,1,50)\n",
    "FinPopArray      = np.zeros((len(InitPopArray),4))\n",
    "FinPopArray[:,0] = InitPopArray\n",
    "\n",
    "# Provided an array of initial population values InitPopArray and a reproduction rate RRate\n",
    "# This function calculate the corresponding array of final population value using CalcFinPop\n",
    "\n",
    "def CalcFinPopArray(InitPopArray, RRate):\n",
    "    for i in range(len(InitPopArray)):\n",
    "        FinPopArray[i,1]=CalcFinPop(InitPopArray[i], RRate)\n",
    "        FinPopArray[i,2]=1-InitPopArray[i]\n",
    "        FinPopArray[i,3]=RRate*InitPopArray[i]"
   ]
  },
  {
   "cell_type": "code",
   "execution_count": 6,
   "metadata": {},
   "outputs": [],
   "source": [
    "# Humans are now interested in the final population after a given number of generations (not just one)\n",
    "\n",
    "InitPopBack=0.05               # They start with this initial value\n",
    "InitPop=InitPopBack            # saved value in order to propagate the calculation through the iterations\n",
    "NGen=95                        # Number of Generations\n",
    "FinPopNGen=np.zeros((NGen,2))  # Evolution of the final population through the generations goes in FinPopNGen\n",
    "\n",
    "# Provided a Reproduction Rate (RRate), this function calculate the evolution of the Final Population\n",
    "# from generation to generation.\n",
    "# The Final Population of one generation is taken as the Initial Population of the next generation\n",
    "\n",
    "def CalcFinPopNGen(RRate):\n",
    "    InitPop=InitPopBack\n",
    "    for j in range(NGen):\n",
    "        NewPop=CalcFinPop(InitPop, RRate)\n",
    "        InitPop=NewPop\n",
    "        FinPopNGen[j,0]=j\n",
    "        FinPopNGen[j,1]=NewPop"
   ]
  },
  {
   "cell_type": "code",
   "execution_count": 7,
   "metadata": {},
   "outputs": [
    {
     "data": {
      "application/vnd.jupyter.widget-view+json": {
       "model_id": "a994dce9d3614703870a75bb14c57038",
       "version_major": 2,
       "version_minor": 0
      },
      "text/plain": [
       "interactive(children=(FloatSlider(value=2.6, description='RRate', max=3.99, min=2.51, step=0.02), Output()), _…"
      ]
     },
     "metadata": {},
     "output_type": "display_data"
    }
   ],
   "source": [
    "def DynamicFigure01(RRate):\n",
    "    \n",
    "    fig, axs = plt.subplots(1, 2, figsize=(20,5), squeeze=False);\n",
    "    fig.set_size_inches(15,5);\n",
    "    \n",
    "    CalcFinPopArray(InitPopArray, RRate);\n",
    "    \n",
    "    axs[0,0].plot(InitPopArray,FinPopArray[:,1],color='blue', lw=4);\n",
    "    axs[0,0].plot(InitPopArray,FinPopArray[:,2],'--', color='blue', lw=2);\n",
    "    axs[0,0].plot(InitPopArray,FinPopArray[:,3],'--', color='blue', lw=2);\n",
    "    \n",
    "    axs[0,0].set_ylim([0, 1])\n",
    "    axs[0,0].set_xlabel('Initial Population\\n(Normalized to 1)')\n",
    "    axs[0,0].set_ylabel('Final Population\\n(Normalized to 1)')\n",
    "    \n",
    "    CalcFinPopNGen(RRate);\n",
    "        \n",
    "    axs[0,1].plot(FinPopNGen[:,0],FinPopNGen[:,1],color='blue', lw=2);\n",
    "\n",
    "    axs[0,1].set_ylim([0, 1])\n",
    "    axs[0,1].set_xlabel('Number of Generations')\n",
    "    #axs[0,1].set_ylabel('Final Population\\n(Normalized to 1)')\n",
    "    \n",
    "    fig.suptitle('Final Population VS Initial Population', fontsize=24)\n",
    "    \n",
    "    #fig = plt.figure();\n",
    "\n",
    "    \n",
    "#interactive_plot = interactive(UpdateThisFigure01, RRate=(2.5, 3.9));\n",
    "interactive_plot = interactive(DynamicFigure01, RRate=widgets.FloatSlider(min=2.51,max=3.99,step=0.02,value=2.6));\n",
    "interactive_plot"
   ]
  },
  {
   "cell_type": "code",
   "execution_count": 8,
   "metadata": {},
   "outputs": [],
   "source": [
    "\n",
    "# Do you want a higher resolution:\n",
    "# write r_range=np.linspace(2.5,4,5000000) \n",
    "r_range=np.linspace(2.5,4,10000)\n",
    "PhDiag=np.zeros((len(r_range),2))\n",
    "\n",
    "\n",
    "def CalcPhaseDiag():\n",
    "    InitPop=0.05\n",
    "    for i in range(len(r_range)):\n",
    "        r_act=r_range[i]\n",
    "        PhDiag[i,0]=r_act\n",
    "    \n",
    "        for j in range(NGen):\n",
    "            XNew=CalcFinPop(InitPop, r_act)\n",
    "            InitPop=XNew\n",
    "            PhDiag[i,1]=XNew"
   ]
  },
  {
   "cell_type": "code",
   "execution_count": 9,
   "metadata": {},
   "outputs": [
    {
     "data": {
      "application/vnd.jupyter.widget-view+json": {
       "model_id": "f64e8648178546fe81174ae775159c41",
       "version_major": 2,
       "version_minor": 0
      },
      "text/plain": [
       "interactive(children=(FloatSlider(value=2.6, description='RRate', max=3.99, min=2.51, step=0.02), Output()), _…"
      ]
     },
     "metadata": {},
     "output_type": "display_data"
    }
   ],
   "source": [
    "def DynamicFigure02(RRate):\n",
    "    \n",
    "    fig, axs = plt.subplots(1, 2, figsize=(20,5), squeeze=False);\n",
    "    fig.set_size_inches(15,5);\n",
    "    \n",
    "    CalcFinPopNGen(RRate);\n",
    "        \n",
    "    axs[0,0].plot(FinPopNGen[:,0],FinPopNGen[:,1],color='blue', lw=2);\n",
    "\n",
    "    axs[0,0].set_ylim([0, 1])\n",
    "    axs[0,0].set_ylabel('Final Population\\n(Normalized to 1)')\n",
    "    axs[0,0].set_xlabel('Number of Generations')\n",
    "\n",
    "    CalcPhaseDiag();\n",
    "    \n",
    "    axs[0,1].plot(PhDiag[:,0],PhDiag[:,1],linestyle=\"\",marker=\"o\",color='blue',markersize=0.2)\n",
    "    axs[0,1].vlines(x=RRate, ymin=0.0, ymax=1.0, color='r')\n",
    "    axs[0,1].set_xlabel('Reproduction Rate')\n",
    "    #axs[0,1].set_xlabel('Reproduction Rate')\n",
    "    \n",
    "    \n",
    "interactive_plot = interactive(DynamicFigure02, RRate=widgets.FloatSlider(min=2.51,max=3.99,step=0.02,value=2.6));\n",
    "interactive_plot"
   ]
  },
  {
   "cell_type": "code",
   "execution_count": null,
   "metadata": {},
   "outputs": [],
   "source": []
  }
 ],
 "metadata": {
  "kernelspec": {
   "display_name": "Python 3",
   "language": "python",
   "name": "python3"
  },
  "language_info": {
   "codemirror_mode": {
    "name": "ipython",
    "version": 3
   },
   "file_extension": ".py",
   "mimetype": "text/x-python",
   "name": "python",
   "nbconvert_exporter": "python",
   "pygments_lexer": "ipython3",
   "version": "3.7.1"
  }
 },
 "nbformat": 4,
 "nbformat_minor": 1
}
